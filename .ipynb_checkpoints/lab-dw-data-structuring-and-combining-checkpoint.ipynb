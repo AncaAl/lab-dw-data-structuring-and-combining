{
 "cells": [
  {
   "cell_type": "markdown",
   "id": "25d7736c-ba17-4aff-b6bb-66eba20fbf4e",
   "metadata": {
    "id": "25d7736c-ba17-4aff-b6bb-66eba20fbf4e"
   },
   "source": [
    "# Lab | Data Structuring and Combining Data"
   ]
  },
  {
   "cell_type": "markdown",
   "id": "a2cdfc70-44c8-478c-81e7-2bc43fdf4986",
   "metadata": {
    "id": "a2cdfc70-44c8-478c-81e7-2bc43fdf4986"
   },
   "source": [
    "## Challenge 1: Combining & Cleaning Data\n",
    "\n",
    "In this challenge, we will be working with the customer data from an insurance company, as we did in the two previous labs. The data can be found here:\n",
    "- https://raw.githubusercontent.com/data-bootcamp-v4/data/main/file1.csv\n",
    "\n",
    "But this time, we got new data, which can be found in the following 2 CSV files located at the links below.\n",
    "\n",
    "- https://raw.githubusercontent.com/data-bootcamp-v4/data/main/file2.csv\n",
    "- https://raw.githubusercontent.com/data-bootcamp-v4/data/main/file3.csv\n",
    "\n",
    "Note that you'll need to clean and format the new data.\n",
    "\n",
    "Observation:\n",
    "- One option is to first combine the three datasets and then apply the cleaning function to the new combined dataset\n",
    "- Another option would be to read the clean file you saved in the previous lab, and just clean the two new files and concatenate the three clean datasets"
   ]
  },
  {
   "cell_type": "markdown",
   "id": "7e8e8643-e9c5-4f6f-80bf-393dc32dba67",
   "metadata": {},
   "source": [
    "### first combine the three datasets "
   ]
  },
  {
   "cell_type": "code",
   "execution_count": 1,
   "id": "c82589f3-91d7-4ac5-91f7-72010d25f3ec",
   "metadata": {},
   "outputs": [],
   "source": [
    "import pandas as pd                                                              # Load datasets\n",
    "url1 = 'https://raw.githubusercontent.com/data-bootcamp-v4/data/main/file1.csv'\n",
    "df1 = pd.read_csv(url1)"
   ]
  },
  {
   "cell_type": "code",
   "execution_count": 2,
   "id": "ca9b1d49-7cc0-4a18-a018-8904be269cf7",
   "metadata": {},
   "outputs": [],
   "source": [
    "url2 = 'https://raw.githubusercontent.com/data-bootcamp-v4/data/main/file2.csv'\n",
    "df2 = pd.read_csv(url2)"
   ]
  },
  {
   "cell_type": "code",
   "execution_count": 3,
   "id": "157692ee-3a2d-43c2-a379-6909f175fba3",
   "metadata": {},
   "outputs": [],
   "source": [
    "url3 = 'https://raw.githubusercontent.com/data-bootcamp-v4/data/main/file3.csv'\n",
    "df3 = pd.read_csv(url3)"
   ]
  },
  {
   "cell_type": "markdown",
   "id": "9f579892-f5f7-4cbb-a0bf-ead769956f94",
   "metadata": {},
   "source": [
    "I wrothe the name of the columns lower and I replace \" \" with \"_\""
   ]
  },
  {
   "cell_type": "code",
   "execution_count": 4,
   "id": "9106f991-edb4-4f12-8605-2dd4acc7a4d0",
   "metadata": {},
   "outputs": [
    {
     "data": {
      "text/plain": [
       "Index(['customer', 'st', 'gender', 'education', 'customer_lifetime_value',\n",
       "       'income', 'monthly_premium_auto', 'number_of_open_complaints',\n",
       "       'policy_type', 'vehicle_class', 'total_claim_amount'],\n",
       "      dtype='object')"
      ]
     },
     "execution_count": 4,
     "metadata": {},
     "output_type": "execute_result"
    }
   ],
   "source": [
    "df1.columns = pd.Series(df1.columns).apply(lambda col: col.lower())  #columns names\n",
    "df1.rename(columns = lambda x: x.replace(' ', '_'), inplace=True)\n",
    "df1.columns"
   ]
  },
  {
   "cell_type": "code",
   "execution_count": 5,
   "id": "86e37a7c-c710-4f9a-8473-fa672687b3dc",
   "metadata": {},
   "outputs": [
    {
     "data": {
      "text/plain": [
       "Index(['customer', 'st', 'gender', 'education', 'customer_lifetime_value',\n",
       "       'income', 'monthly_premium_auto', 'number_of_open_complaints',\n",
       "       'total_claim_amount', 'policy_type', 'vehicle_class'],\n",
       "      dtype='object')"
      ]
     },
     "execution_count": 5,
     "metadata": {},
     "output_type": "execute_result"
    }
   ],
   "source": [
    "df2.columns = pd.Series(df2.columns).apply(lambda col: col.lower())  #columns names\n",
    "df2.rename(columns = lambda x: x.replace(' ', '_'), inplace=True)\n",
    "df2.columns"
   ]
  },
  {
   "cell_type": "code",
   "execution_count": 6,
   "id": "69a4fe5d-c7cc-42f5-a464-04365e50965b",
   "metadata": {},
   "outputs": [
    {
     "data": {
      "text/plain": [
       "Index(['customer', 'state', 'customer_lifetime_value', 'education', 'gender',\n",
       "       'income', 'monthly_premium_auto', 'number_of_open_complaints',\n",
       "       'policy_type', 'total_claim_amount', 'vehicle_class'],\n",
       "      dtype='object')"
      ]
     },
     "execution_count": 6,
     "metadata": {},
     "output_type": "execute_result"
    }
   ],
   "source": [
    "df3.columns = pd.Series(df3.columns).apply(lambda col: col.lower())  #columns names\n",
    "df3.rename(columns = lambda x: x.replace(' ', '_'), inplace=True)\n",
    "df3.columns"
   ]
  },
  {
   "cell_type": "code",
   "execution_count": 7,
   "id": "15a98ba2-9708-4889-a252-4ea915dceacf",
   "metadata": {},
   "outputs": [
    {
     "name": "stdout",
     "output_type": "stream",
     "text": [
      "The DataFrames have the same columns.\n"
     ]
    }
   ],
   "source": [
    "# Checking if df1 & df2 DataFrames have the same columns.\n",
    "df2 = df2[df1.columns]\n",
    "\n",
    "if list(df1.columns) == list(df2.columns):                                \n",
    "    print(\"The DataFrames have the same columns.\")\n",
    "else:\n",
    "    print(\"The DataFrames do not have the same columns.\")"
   ]
  },
  {
   "cell_type": "code",
   "execution_count": 8,
   "id": "06799bb0-65a3-4452-9d21-6cec7981bc7a",
   "metadata": {},
   "outputs": [],
   "source": [
    "df4 = pd.concat([df1, df2], axis=0)   #combine the df1 with df2"
   ]
  },
  {
   "cell_type": "code",
   "execution_count": 9,
   "id": "e7778545-f09f-4085-a5d7-f5e4122cdb85",
   "metadata": {},
   "outputs": [
    {
     "name": "stdout",
     "output_type": "stream",
     "text": [
      "The DataFrames do not have the same columns.\n"
     ]
    }
   ],
   "source": [
    "if list(df3.columns) == list(df4.columns):                                \n",
    "    print(\"The DataFrames have the same columns.\")\n",
    "else:\n",
    "    print(\"The DataFrames do not have the same columns.\")"
   ]
  },
  {
   "cell_type": "code",
   "execution_count": 11,
   "id": "fd518ecb-fdec-4be2-992e-d745e7b0f578",
   "metadata": {},
   "outputs": [
    {
     "data": {
      "text/plain": [
       "Index(['customer', 'st', 'gender', 'education', 'customer_lifetime_value',\n",
       "       'income', 'monthly_premium_auto', 'number_of_open_complaints',\n",
       "       'policy_type', 'vehicle_class', 'total_claim_amount'],\n",
       "      dtype='object')"
      ]
     },
     "execution_count": 11,
     "metadata": {},
     "output_type": "execute_result"
    }
   ],
   "source": [
    "df4.columns"
   ]
  },
  {
   "cell_type": "code",
   "execution_count": 12,
   "id": "ed9c7f04-b32d-4671-ac7a-2223344cd277",
   "metadata": {},
   "outputs": [
    {
     "data": {
      "text/plain": [
       "Index(['customer', 'state', 'customer_lifetime_value', 'education', 'gender',\n",
       "       'income', 'monthly_premium_auto', 'number_of_open_complaints',\n",
       "       'policy_type', 'total_claim_amount', 'vehicle_class'],\n",
       "      dtype='object')"
      ]
     },
     "execution_count": 12,
     "metadata": {},
     "output_type": "execute_result"
    }
   ],
   "source": [
    "df3.columns"
   ]
  },
  {
   "cell_type": "code",
   "execution_count": 13,
   "id": "8c3df542-4fd4-43aa-9faa-9434b17a204f",
   "metadata": {},
   "outputs": [
    {
     "data": {
      "text/plain": [
       "Index(['customer', 'st', 'customer_lifetime_value', 'education', 'gender',\n",
       "       'income', 'monthly_premium_auto', 'number_of_open_complaints',\n",
       "       'policy_type', 'total_claim_amount', 'vehicle_class'],\n",
       "      dtype='object')"
      ]
     },
     "execution_count": 13,
     "metadata": {},
     "output_type": "execute_result"
    }
   ],
   "source": [
    "df3.rename(columns = lambda x: x.replace('state', 'st'), inplace=True)\n",
    "df3.columns"
   ]
  },
  {
   "cell_type": "code",
   "execution_count": 15,
   "id": "ba526e6e-39bb-4974-b81e-43fbe6ef27fc",
   "metadata": {},
   "outputs": [
    {
     "data": {
      "text/plain": [
       "Index(['customer', 'st', 'customer_lifetime_value', 'education', 'gender',\n",
       "       'income', 'monthly_premium_auto', 'number_of_open_complaints',\n",
       "       'policy_type', 'total_claim_amount', 'vehicle_class'],\n",
       "      dtype='object')"
      ]
     },
     "execution_count": 15,
     "metadata": {},
     "output_type": "execute_result"
    }
   ],
   "source": [
    "df4 = df4[df3.columns]\n",
    "df3.columns"
   ]
  },
  {
   "cell_type": "code",
   "execution_count": 16,
   "id": "7b313fc7-2fb3-4862-92d3-edb14850bcc1",
   "metadata": {},
   "outputs": [
    {
     "name": "stdout",
     "output_type": "stream",
     "text": [
      "The DataFrames have the same columns.\n"
     ]
    }
   ],
   "source": [
    "if list(df3.columns) == list(df4.columns):                                \n",
    "    print(\"The DataFrames have the same columns.\")\n",
    "else:\n",
    "    print(\"The DataFrames do not have the same columns.\")"
   ]
  },
  {
   "cell_type": "code",
   "execution_count": 18,
   "id": "82933198-32f4-45d8-b514-7cbdc6149efc",
   "metadata": {},
   "outputs": [
    {
     "data": {
      "text/html": [
       "<div>\n",
       "<style scoped>\n",
       "    .dataframe tbody tr th:only-of-type {\n",
       "        vertical-align: middle;\n",
       "    }\n",
       "\n",
       "    .dataframe tbody tr th {\n",
       "        vertical-align: top;\n",
       "    }\n",
       "\n",
       "    .dataframe thead th {\n",
       "        text-align: right;\n",
       "    }\n",
       "</style>\n",
       "<table border=\"1\" class=\"dataframe\">\n",
       "  <thead>\n",
       "    <tr style=\"text-align: right;\">\n",
       "      <th></th>\n",
       "      <th>customer</th>\n",
       "      <th>st</th>\n",
       "      <th>customer_lifetime_value</th>\n",
       "      <th>education</th>\n",
       "      <th>gender</th>\n",
       "      <th>income</th>\n",
       "      <th>monthly_premium_auto</th>\n",
       "      <th>number_of_open_complaints</th>\n",
       "      <th>policy_type</th>\n",
       "      <th>total_claim_amount</th>\n",
       "      <th>vehicle_class</th>\n",
       "    </tr>\n",
       "  </thead>\n",
       "  <tbody>\n",
       "    <tr>\n",
       "      <th>0</th>\n",
       "      <td>SA25987</td>\n",
       "      <td>Washington</td>\n",
       "      <td>3479.137523</td>\n",
       "      <td>High School or Below</td>\n",
       "      <td>M</td>\n",
       "      <td>0.0</td>\n",
       "      <td>104.0</td>\n",
       "      <td>0</td>\n",
       "      <td>Personal Auto</td>\n",
       "      <td>499.200000</td>\n",
       "      <td>Two-Door Car</td>\n",
       "    </tr>\n",
       "    <tr>\n",
       "      <th>1</th>\n",
       "      <td>TB86706</td>\n",
       "      <td>Arizona</td>\n",
       "      <td>2502.637401</td>\n",
       "      <td>Master</td>\n",
       "      <td>M</td>\n",
       "      <td>0.0</td>\n",
       "      <td>66.0</td>\n",
       "      <td>0</td>\n",
       "      <td>Personal Auto</td>\n",
       "      <td>3.468912</td>\n",
       "      <td>Two-Door Car</td>\n",
       "    </tr>\n",
       "    <tr>\n",
       "      <th>2</th>\n",
       "      <td>ZL73902</td>\n",
       "      <td>Nevada</td>\n",
       "      <td>3265.156348</td>\n",
       "      <td>Bachelor</td>\n",
       "      <td>F</td>\n",
       "      <td>25820.0</td>\n",
       "      <td>82.0</td>\n",
       "      <td>0</td>\n",
       "      <td>Personal Auto</td>\n",
       "      <td>393.600000</td>\n",
       "      <td>Four-Door Car</td>\n",
       "    </tr>\n",
       "    <tr>\n",
       "      <th>3</th>\n",
       "      <td>KX23516</td>\n",
       "      <td>California</td>\n",
       "      <td>4455.843406</td>\n",
       "      <td>High School or Below</td>\n",
       "      <td>F</td>\n",
       "      <td>0.0</td>\n",
       "      <td>121.0</td>\n",
       "      <td>0</td>\n",
       "      <td>Personal Auto</td>\n",
       "      <td>699.615192</td>\n",
       "      <td>SUV</td>\n",
       "    </tr>\n",
       "    <tr>\n",
       "      <th>4</th>\n",
       "      <td>FN77294</td>\n",
       "      <td>California</td>\n",
       "      <td>7704.95848</td>\n",
       "      <td>High School or Below</td>\n",
       "      <td>M</td>\n",
       "      <td>30366.0</td>\n",
       "      <td>101.0</td>\n",
       "      <td>2</td>\n",
       "      <td>Personal Auto</td>\n",
       "      <td>484.800000</td>\n",
       "      <td>SUV</td>\n",
       "    </tr>\n",
       "    <tr>\n",
       "      <th>...</th>\n",
       "      <td>...</td>\n",
       "      <td>...</td>\n",
       "      <td>...</td>\n",
       "      <td>...</td>\n",
       "      <td>...</td>\n",
       "      <td>...</td>\n",
       "      <td>...</td>\n",
       "      <td>...</td>\n",
       "      <td>...</td>\n",
       "      <td>...</td>\n",
       "      <td>...</td>\n",
       "    </tr>\n",
       "    <tr>\n",
       "      <th>991</th>\n",
       "      <td>HV85198</td>\n",
       "      <td>Arizona</td>\n",
       "      <td>847141.75%</td>\n",
       "      <td>Master</td>\n",
       "      <td>M</td>\n",
       "      <td>63513.0</td>\n",
       "      <td>70.0</td>\n",
       "      <td>1/0/00</td>\n",
       "      <td>Personal Auto</td>\n",
       "      <td>185.667213</td>\n",
       "      <td>Four-Door Car</td>\n",
       "    </tr>\n",
       "    <tr>\n",
       "      <th>992</th>\n",
       "      <td>BS91566</td>\n",
       "      <td>Arizona</td>\n",
       "      <td>543121.91%</td>\n",
       "      <td>College</td>\n",
       "      <td>F</td>\n",
       "      <td>58161.0</td>\n",
       "      <td>68.0</td>\n",
       "      <td>1/0/00</td>\n",
       "      <td>Corporate Auto</td>\n",
       "      <td>140.747286</td>\n",
       "      <td>Four-Door Car</td>\n",
       "    </tr>\n",
       "    <tr>\n",
       "      <th>993</th>\n",
       "      <td>IL40123</td>\n",
       "      <td>Nevada</td>\n",
       "      <td>568964.41%</td>\n",
       "      <td>College</td>\n",
       "      <td>F</td>\n",
       "      <td>83640.0</td>\n",
       "      <td>70.0</td>\n",
       "      <td>1/0/00</td>\n",
       "      <td>Corporate Auto</td>\n",
       "      <td>471.050488</td>\n",
       "      <td>Two-Door Car</td>\n",
       "    </tr>\n",
       "    <tr>\n",
       "      <th>994</th>\n",
       "      <td>MY32149</td>\n",
       "      <td>California</td>\n",
       "      <td>368672.38%</td>\n",
       "      <td>Master</td>\n",
       "      <td>F</td>\n",
       "      <td>0.0</td>\n",
       "      <td>96.0</td>\n",
       "      <td>1/0/00</td>\n",
       "      <td>Personal Auto</td>\n",
       "      <td>28.460568</td>\n",
       "      <td>Two-Door Car</td>\n",
       "    </tr>\n",
       "    <tr>\n",
       "      <th>995</th>\n",
       "      <td>SA91515</td>\n",
       "      <td>California</td>\n",
       "      <td>399258.39%</td>\n",
       "      <td>Bachelor</td>\n",
       "      <td>M</td>\n",
       "      <td>0.0</td>\n",
       "      <td>111.0</td>\n",
       "      <td>1/0/00</td>\n",
       "      <td>Personal Auto</td>\n",
       "      <td>700.349052</td>\n",
       "      <td>SUV</td>\n",
       "    </tr>\n",
       "  </tbody>\n",
       "</table>\n",
       "<p>12074 rows × 11 columns</p>\n",
       "</div>"
      ],
      "text/plain": [
       "    customer          st customer_lifetime_value             education gender  \\\n",
       "0    SA25987  Washington             3479.137523  High School or Below      M   \n",
       "1    TB86706     Arizona             2502.637401                Master      M   \n",
       "2    ZL73902      Nevada             3265.156348              Bachelor      F   \n",
       "3    KX23516  California             4455.843406  High School or Below      F   \n",
       "4    FN77294  California              7704.95848  High School or Below      M   \n",
       "..       ...         ...                     ...                   ...    ...   \n",
       "991  HV85198     Arizona              847141.75%                Master      M   \n",
       "992  BS91566     Arizona              543121.91%               College      F   \n",
       "993  IL40123      Nevada              568964.41%               College      F   \n",
       "994  MY32149  California              368672.38%                Master      F   \n",
       "995  SA91515  California              399258.39%              Bachelor      M   \n",
       "\n",
       "      income  monthly_premium_auto number_of_open_complaints     policy_type  \\\n",
       "0        0.0                 104.0                         0   Personal Auto   \n",
       "1        0.0                  66.0                         0   Personal Auto   \n",
       "2    25820.0                  82.0                         0   Personal Auto   \n",
       "3        0.0                 121.0                         0   Personal Auto   \n",
       "4    30366.0                 101.0                         2   Personal Auto   \n",
       "..       ...                   ...                       ...             ...   \n",
       "991  63513.0                  70.0                    1/0/00   Personal Auto   \n",
       "992  58161.0                  68.0                    1/0/00  Corporate Auto   \n",
       "993  83640.0                  70.0                    1/0/00  Corporate Auto   \n",
       "994      0.0                  96.0                    1/0/00   Personal Auto   \n",
       "995      0.0                 111.0                    1/0/00   Personal Auto   \n",
       "\n",
       "     total_claim_amount  vehicle_class  \n",
       "0            499.200000   Two-Door Car  \n",
       "1              3.468912   Two-Door Car  \n",
       "2            393.600000  Four-Door Car  \n",
       "3            699.615192            SUV  \n",
       "4            484.800000            SUV  \n",
       "..                  ...            ...  \n",
       "991          185.667213  Four-Door Car  \n",
       "992          140.747286  Four-Door Car  \n",
       "993          471.050488   Two-Door Car  \n",
       "994           28.460568   Two-Door Car  \n",
       "995          700.349052            SUV  \n",
       "\n",
       "[12074 rows x 11 columns]"
      ]
     },
     "execution_count": 18,
     "metadata": {},
     "output_type": "execute_result"
    }
   ],
   "source": [
    "df_all = pd.concat([df3, df4], axis=0)   #combine the df3 with df4\n",
    "df_all"
   ]
  },
  {
   "cell_type": "markdown",
   "id": "6f5c01bb-8b42-4c88-8abd-1179bf8805e0",
   "metadata": {},
   "source": [
    "### apply the cleaning function to the new combined dataset"
   ]
  },
  {
   "cell_type": "code",
   "execution_count": 24,
   "id": "b93ed349-8525-4bec-863c-be8d8bec3f04",
   "metadata": {},
   "outputs": [],
   "source": [
    "df_all.dropna(inplace=True)  # Removes rows with null values"
   ]
  },
  {
   "cell_type": "code",
   "execution_count": 66,
   "id": "4f25ba28-c5c6-4ef2-8fa0-ce610c1101b9",
   "metadata": {},
   "outputs": [],
   "source": [
    "# clean gender column\n",
    "df_all[\"gender\"].replace('Femal','F', inplace=True)\n",
    "df_all[\"gender\"].replace('Male','M', inplace=True)\n",
    "df_all[\"gender\"].replace('m','M', inplace=True)\n",
    "df_all[\"gender\"].replace('female','F', inplace=True)\n",
    "\n",
    "# clean st column\n",
    "df_all['st'] = df_all[\"st\"].apply(lambda x: \"Arizona\" if x == \"AZ\" else \n",
    "                                            \"Washington\" if x==\"WA\" else \n",
    "                                            \"California\" if x== \"Cali\" else x )\n",
    "\n",
    "# clean education column\n",
    "df_all[\"education\"].replace('Bachelors','Bachelor', inplace=True)\n",
    "\n",
    "#In Customer Lifetime Value, delete the % character\n",
    "df_all[\"customer_lifetime_value\"] = df_all[\"customer_lifetime_value\"].str.replace('%','')   \n",
    "\n",
    "#In vehicle class, \"Sports Car\", \"Luxury SUV\" and \"Luxury Car\" could be replaced by \"Luxury\"\n",
    "df_all['vehicle_class'] = df_all[\"vehicle_class\"].apply(lambda x: \"Luxury\" if x == \"Luxury SUV\" else \n",
    "                                                                  \"Luxury\" if x == \"Sports Car\" else \n",
    "                                                                  \"Luxury\" if x == \"Luxury Car\" else x )\n"
   ]
  },
  {
   "cell_type": "code",
   "execution_count": 68,
   "id": "da854948-d928-4b6a-afb9-58dcb0b288ff",
   "metadata": {},
   "outputs": [
    {
     "name": "stdout",
     "output_type": "stream",
     "text": [
      "customer                      object\n",
      "st                            object\n",
      "customer_lifetime_value      float64\n",
      "education                     object\n",
      "gender                        object\n",
      "income                       float64\n",
      "monthly_premium_auto         float64\n",
      "number_of_open_complaints     object\n",
      "policy_type                   object\n",
      "total_claim_amount           float64\n",
      "vehicle_class                 object\n",
      "dtype: object\n"
     ]
    }
   ],
   "source": [
    "df_all[\"customer_lifetime_value\"] = df_all[\"customer_lifetime_value\"].astype(float)\n",
    "print(df_all.dtypes)"
   ]
  },
  {
   "cell_type": "code",
   "execution_count": null,
   "id": "7c690898-712b-48c6-a2de-b8709085a02f",
   "metadata": {},
   "outputs": [],
   "source": []
  },
  {
   "cell_type": "code",
   "execution_count": null,
   "id": "b8fb5715-2d21-4e78-be63-11d247563c67",
   "metadata": {},
   "outputs": [],
   "source": []
  },
  {
   "cell_type": "code",
   "execution_count": null,
   "id": "7440377e-d79e-4805-989b-28b1e195d34e",
   "metadata": {},
   "outputs": [],
   "source": []
  },
  {
   "cell_type": "markdown",
   "id": "31b8a9e7-7db9-4604-991b-ef6771603e57",
   "metadata": {
    "id": "31b8a9e7-7db9-4604-991b-ef6771603e57"
   },
   "source": [
    "# Challenge 2: Structuring Data"
   ]
  },
  {
   "cell_type": "markdown",
   "id": "a877fd6d-7a0c-46d2-9657-f25036e4ca4b",
   "metadata": {
    "id": "a877fd6d-7a0c-46d2-9657-f25036e4ca4b"
   },
   "source": [
    "In this challenge, we will continue to work with customer data from an insurance company, but we will use a dataset with more columns, called marketing_customer_analysis.csv, which can be found at the following link:\n",
    "\n",
    "https://raw.githubusercontent.com/data-bootcamp-v4/data/main/marketing_customer_analysis_clean.csv\n",
    "\n",
    "This dataset contains information such as customer demographics, policy details, vehicle information, and the customer's response to the last marketing campaign. Our goal is to explore and analyze this data by performing data cleaning, formatting, and structuring."
   ]
  },
  {
   "cell_type": "markdown",
   "id": "df35fd0d-513e-4e77-867e-429da10a9cc7",
   "metadata": {
    "id": "df35fd0d-513e-4e77-867e-429da10a9cc7"
   },
   "source": [
    "1. You work at the marketing department and you want to know which sales channel brought the most sales in terms of total revenue. Using pivot, create a summary table showing the total revenue for each sales channel (branch, call center, web, and mail).\n",
    "Round the total revenue to 2 decimal points.  Analyze the resulting table to draw insights."
   ]
  },
  {
   "cell_type": "markdown",
   "id": "640993b2-a291-436c-a34d-a551144f8196",
   "metadata": {
    "id": "640993b2-a291-436c-a34d-a551144f8196"
   },
   "source": [
    "2. Create a pivot table that shows the average customer lifetime value per gender and education level. Analyze the resulting table to draw insights."
   ]
  },
  {
   "cell_type": "code",
   "execution_count": null,
   "id": "aa10d9b0-1c27-4d3f-a8e4-db6ab73bfd26",
   "metadata": {
    "id": "aa10d9b0-1c27-4d3f-a8e4-db6ab73bfd26"
   },
   "outputs": [],
   "source": [
    "# Your code goes here"
   ]
  },
  {
   "cell_type": "code",
   "execution_count": 1,
   "id": "9df1964c-2633-4284-92a3-5c4d8a414415",
   "metadata": {},
   "outputs": [],
   "source": [
    "import pandas as pd                                                              # Load datasets\n",
    "url = 'https://raw.githubusercontent.com/data-bootcamp-v4/data/main/marketing_customer_analysis_clean.csv'\n",
    "df = pd.read_csv(url)"
   ]
  },
  {
   "cell_type": "code",
   "execution_count": 22,
   "id": "58725fb3-db83-4a68-93c6-67c358d55c34",
   "metadata": {},
   "outputs": [
    {
     "data": {
      "text/html": [
       "<div>\n",
       "<style scoped>\n",
       "    .dataframe tbody tr th:only-of-type {\n",
       "        vertical-align: middle;\n",
       "    }\n",
       "\n",
       "    .dataframe tbody tr th {\n",
       "        vertical-align: top;\n",
       "    }\n",
       "\n",
       "    .dataframe thead th {\n",
       "        text-align: right;\n",
       "    }\n",
       "</style>\n",
       "<table border=\"1\" class=\"dataframe\">\n",
       "  <thead>\n",
       "    <tr style=\"text-align: right;\">\n",
       "      <th></th>\n",
       "      <th>unnamed:_0</th>\n",
       "      <th>customer</th>\n",
       "      <th>state</th>\n",
       "      <th>customer_lifetime_value</th>\n",
       "      <th>response</th>\n",
       "      <th>coverage</th>\n",
       "      <th>education</th>\n",
       "      <th>effective_to_date</th>\n",
       "      <th>employmentstatus</th>\n",
       "      <th>gender</th>\n",
       "      <th>...</th>\n",
       "      <th>number_of_policies</th>\n",
       "      <th>policy_type</th>\n",
       "      <th>policy</th>\n",
       "      <th>renew_offer_type</th>\n",
       "      <th>sales_channel</th>\n",
       "      <th>total_claim_amount</th>\n",
       "      <th>vehicle_class</th>\n",
       "      <th>vehicle_size</th>\n",
       "      <th>vehicle_type</th>\n",
       "      <th>month</th>\n",
       "    </tr>\n",
       "  </thead>\n",
       "  <tbody>\n",
       "    <tr>\n",
       "      <th>0</th>\n",
       "      <td>0</td>\n",
       "      <td>DK49336</td>\n",
       "      <td>Arizona</td>\n",
       "      <td>4809.216960</td>\n",
       "      <td>No</td>\n",
       "      <td>Basic</td>\n",
       "      <td>College</td>\n",
       "      <td>2011-02-18</td>\n",
       "      <td>Employed</td>\n",
       "      <td>M</td>\n",
       "      <td>...</td>\n",
       "      <td>9</td>\n",
       "      <td>Corporate Auto</td>\n",
       "      <td>Corporate L3</td>\n",
       "      <td>Offer3</td>\n",
       "      <td>Agent</td>\n",
       "      <td>292.800000</td>\n",
       "      <td>Four-Door Car</td>\n",
       "      <td>Medsize</td>\n",
       "      <td>A</td>\n",
       "      <td>2</td>\n",
       "    </tr>\n",
       "    <tr>\n",
       "      <th>1</th>\n",
       "      <td>1</td>\n",
       "      <td>KX64629</td>\n",
       "      <td>California</td>\n",
       "      <td>2228.525238</td>\n",
       "      <td>No</td>\n",
       "      <td>Basic</td>\n",
       "      <td>College</td>\n",
       "      <td>2011-01-18</td>\n",
       "      <td>Unemployed</td>\n",
       "      <td>F</td>\n",
       "      <td>...</td>\n",
       "      <td>1</td>\n",
       "      <td>Personal Auto</td>\n",
       "      <td>Personal L3</td>\n",
       "      <td>Offer4</td>\n",
       "      <td>Call Center</td>\n",
       "      <td>744.924331</td>\n",
       "      <td>Four-Door Car</td>\n",
       "      <td>Medsize</td>\n",
       "      <td>A</td>\n",
       "      <td>1</td>\n",
       "    </tr>\n",
       "    <tr>\n",
       "      <th>2</th>\n",
       "      <td>2</td>\n",
       "      <td>LZ68649</td>\n",
       "      <td>Washington</td>\n",
       "      <td>14947.917300</td>\n",
       "      <td>No</td>\n",
       "      <td>Basic</td>\n",
       "      <td>Bachelor</td>\n",
       "      <td>2011-02-10</td>\n",
       "      <td>Employed</td>\n",
       "      <td>M</td>\n",
       "      <td>...</td>\n",
       "      <td>2</td>\n",
       "      <td>Personal Auto</td>\n",
       "      <td>Personal L3</td>\n",
       "      <td>Offer3</td>\n",
       "      <td>Call Center</td>\n",
       "      <td>480.000000</td>\n",
       "      <td>SUV</td>\n",
       "      <td>Medsize</td>\n",
       "      <td>A</td>\n",
       "      <td>2</td>\n",
       "    </tr>\n",
       "  </tbody>\n",
       "</table>\n",
       "<p>3 rows × 27 columns</p>\n",
       "</div>"
      ],
      "text/plain": [
       "   unnamed:_0 customer       state  customer_lifetime_value response coverage  \\\n",
       "0           0  DK49336     Arizona              4809.216960       No    Basic   \n",
       "1           1  KX64629  California              2228.525238       No    Basic   \n",
       "2           2  LZ68649  Washington             14947.917300       No    Basic   \n",
       "\n",
       "  education effective_to_date employmentstatus gender  ...  \\\n",
       "0   College        2011-02-18         Employed      M  ...   \n",
       "1   College        2011-01-18       Unemployed      F  ...   \n",
       "2  Bachelor        2011-02-10         Employed      M  ...   \n",
       "\n",
       "   number_of_policies     policy_type        policy  renew_offer_type  \\\n",
       "0                   9  Corporate Auto  Corporate L3            Offer3   \n",
       "1                   1   Personal Auto   Personal L3            Offer4   \n",
       "2                   2   Personal Auto   Personal L3            Offer3   \n",
       "\n",
       "   sales_channel  total_claim_amount  vehicle_class  vehicle_size  \\\n",
       "0          Agent          292.800000  Four-Door Car       Medsize   \n",
       "1    Call Center          744.924331  Four-Door Car       Medsize   \n",
       "2    Call Center          480.000000            SUV       Medsize   \n",
       "\n",
       "  vehicle_type month  \n",
       "0            A     2  \n",
       "1            A     1  \n",
       "2            A     2  \n",
       "\n",
       "[3 rows x 27 columns]"
      ]
     },
     "execution_count": 22,
     "metadata": {},
     "output_type": "execute_result"
    }
   ],
   "source": [
    "#df\n",
    "df.head(3)\n",
    "#df.tail\n",
    "#df.columns\n",
    "#df.describe\n",
    "#df.info()\n",
    "#df.nunique()\n",
    "#df.dtypes\n",
    "#df.sales_channel.unique()"
   ]
  },
  {
   "cell_type": "markdown",
   "id": "9cf06f76-96be-4d53-ae25-47eadf80bd52",
   "metadata": {},
   "source": [
    "1. You work at the marketing department and you want to know which sales channel brought the most sales in terms of total revenue. Using pivot, create a summary table showing the total revenue for each sales channel (branch, call center, web, and mail). Round the total revenue to 2 decimal points. Analyze the resulting table to draw insights."
   ]
  },
  {
   "cell_type": "code",
   "execution_count": 35,
   "id": "17e74cc3-f63e-438b-a35e-c1bb87acc6a8",
   "metadata": {},
   "outputs": [
    {
     "data": {
      "text/html": [
       "<div>\n",
       "<style scoped>\n",
       "    .dataframe tbody tr th:only-of-type {\n",
       "        vertical-align: middle;\n",
       "    }\n",
       "\n",
       "    .dataframe tbody tr th {\n",
       "        vertical-align: top;\n",
       "    }\n",
       "\n",
       "    .dataframe thead th {\n",
       "        text-align: right;\n",
       "    }\n",
       "</style>\n",
       "<table border=\"1\" class=\"dataframe\">\n",
       "  <thead>\n",
       "    <tr style=\"text-align: right;\">\n",
       "      <th></th>\n",
       "      <th>income</th>\n",
       "    </tr>\n",
       "    <tr>\n",
       "      <th>sales_channel</th>\n",
       "      <th></th>\n",
       "    </tr>\n",
       "  </thead>\n",
       "  <tbody>\n",
       "    <tr>\n",
       "      <th>Agent</th>\n",
       "      <td>152490152</td>\n",
       "    </tr>\n",
       "    <tr>\n",
       "      <th>Branch</th>\n",
       "      <td>113775608</td>\n",
       "    </tr>\n",
       "    <tr>\n",
       "      <th>Call Center</th>\n",
       "      <td>81055004</td>\n",
       "    </tr>\n",
       "    <tr>\n",
       "      <th>Web</th>\n",
       "      <td>62200103</td>\n",
       "    </tr>\n",
       "  </tbody>\n",
       "</table>\n",
       "</div>"
      ],
      "text/plain": [
       "                  income\n",
       "sales_channel           \n",
       "Agent          152490152\n",
       "Branch         113775608\n",
       "Call Center     81055004\n",
       "Web             62200103"
      ]
     },
     "execution_count": 35,
     "metadata": {},
     "output_type": "execute_result"
    }
   ],
   "source": [
    "pivot_df1 = df.pivot_table(index='sales_channel', values='income', aggfunc='sum') #round(num, 2)\n",
    "pivot_df1 = pivot_df1.round(2)\n",
    "pivot_df1"
   ]
  },
  {
   "cell_type": "markdown",
   "id": "fe65249c-9830-4487-b49b-78f77f809dfb",
   "metadata": {},
   "source": [
    "2. Create a pivot table that shows the average customer lifetime value per gender and education level. Analyze the resulting table to draw insights."
   ]
  },
  {
   "cell_type": "code",
   "execution_count": 36,
   "id": "2b6d12d5-e2d5-4f1b-9351-84e958941a2c",
   "metadata": {},
   "outputs": [
    {
     "data": {
      "text/html": [
       "<div>\n",
       "<style scoped>\n",
       "    .dataframe tbody tr th:only-of-type {\n",
       "        vertical-align: middle;\n",
       "    }\n",
       "\n",
       "    .dataframe tbody tr th {\n",
       "        vertical-align: top;\n",
       "    }\n",
       "\n",
       "    .dataframe thead th {\n",
       "        text-align: right;\n",
       "    }\n",
       "</style>\n",
       "<table border=\"1\" class=\"dataframe\">\n",
       "  <thead>\n",
       "    <tr style=\"text-align: right;\">\n",
       "      <th>gender</th>\n",
       "      <th>F</th>\n",
       "      <th>M</th>\n",
       "    </tr>\n",
       "    <tr>\n",
       "      <th>education</th>\n",
       "      <th></th>\n",
       "      <th></th>\n",
       "    </tr>\n",
       "  </thead>\n",
       "  <tbody>\n",
       "    <tr>\n",
       "      <th>Bachelor</th>\n",
       "      <td>7874.27</td>\n",
       "      <td>7703.60</td>\n",
       "    </tr>\n",
       "    <tr>\n",
       "      <th>College</th>\n",
       "      <td>7748.82</td>\n",
       "      <td>8052.46</td>\n",
       "    </tr>\n",
       "    <tr>\n",
       "      <th>Doctor</th>\n",
       "      <td>7328.51</td>\n",
       "      <td>7415.33</td>\n",
       "    </tr>\n",
       "    <tr>\n",
       "      <th>High School or Below</th>\n",
       "      <td>8675.22</td>\n",
       "      <td>8149.69</td>\n",
       "    </tr>\n",
       "    <tr>\n",
       "      <th>Master</th>\n",
       "      <td>8157.05</td>\n",
       "      <td>8168.83</td>\n",
       "    </tr>\n",
       "  </tbody>\n",
       "</table>\n",
       "</div>"
      ],
      "text/plain": [
       "gender                      F        M\n",
       "education                             \n",
       "Bachelor              7874.27  7703.60\n",
       "College               7748.82  8052.46\n",
       "Doctor                7328.51  7415.33\n",
       "High School or Below  8675.22  8149.69\n",
       "Master                8157.05  8168.83"
      ]
     },
     "execution_count": 36,
     "metadata": {},
     "output_type": "execute_result"
    }
   ],
   "source": [
    "pivot_df2 = df.pivot_table(index='education', columns='gender', values='customer_lifetime_value', aggfunc='mean')\n",
    "pivot_df2 = pivot_df2.round(2)\n",
    "pivot_df2"
   ]
  },
  {
   "cell_type": "code",
   "execution_count": null,
   "id": "c93a108d-abfd-4ed1-be44-7e4130d9db4c",
   "metadata": {},
   "outputs": [],
   "source": []
  },
  {
   "cell_type": "markdown",
   "id": "32c7f2e5-3d90-43e5-be33-9781b6069198",
   "metadata": {
    "id": "32c7f2e5-3d90-43e5-be33-9781b6069198"
   },
   "source": [
    "## Bonus\n",
    "\n",
    "You work at the customer service department and you want to know which months had the highest number of complaints by policy type category. Create a summary table showing the number of complaints by policy type and month.\n",
    "Show it in a long format table."
   ]
  },
  {
   "cell_type": "markdown",
   "id": "e3d09a8f-953c-448a-a5f8-2e5a8cca7291",
   "metadata": {
    "id": "e3d09a8f-953c-448a-a5f8-2e5a8cca7291"
   },
   "source": [
    "*In data analysis, a long format table is a way of structuring data in which each observation or measurement is stored in a separate row of the table. The key characteristic of a long format table is that each column represents a single variable, and each row represents a single observation of that variable.*\n",
    "\n",
    "*More information about long and wide format tables here: https://www.statology.org/long-vs-wide-data/*"
   ]
  },
  {
   "cell_type": "code",
   "execution_count": null,
   "id": "3a069e0b-b400-470e-904d-d17582191be4",
   "metadata": {
    "id": "3a069e0b-b400-470e-904d-d17582191be4"
   },
   "outputs": [],
   "source": [
    "# Your code goes here"
   ]
  }
 ],
 "metadata": {
  "colab": {
   "provenance": []
  },
  "kernelspec": {
   "display_name": "Python 3 (ipykernel)",
   "language": "python",
   "name": "python3"
  },
  "language_info": {
   "codemirror_mode": {
    "name": "ipython",
    "version": 3
   },
   "file_extension": ".py",
   "mimetype": "text/x-python",
   "name": "python",
   "nbconvert_exporter": "python",
   "pygments_lexer": "ipython3",
   "version": "3.11.7"
  }
 },
 "nbformat": 4,
 "nbformat_minor": 5
}
